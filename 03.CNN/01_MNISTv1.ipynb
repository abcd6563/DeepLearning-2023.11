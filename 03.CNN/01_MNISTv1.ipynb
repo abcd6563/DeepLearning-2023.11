{
  "cells": [
    {
      "cell_type": "markdown",
      "metadata": {
        "id": "0WzvBWq6fSiH"
      },
      "source": [
        "## MNIST 손글씨 -CNN v1\n",
        "  - 2 x COnv2D layers\n",
        "  - 1 1 FCN layer\n",
        "  - 1 Output layer"
      ]
    },
    {
      "cell_type": "code",
      "execution_count": 1,
      "metadata": {
        "id": "4KD8aTgQfPC3"
      },
      "outputs": [],
      "source": [
        "import numpy as np\n",
        "import matplotlib.pyplot as plt\n",
        "import tensorflow as tf\n",
        "seed = 2023\n",
        "np.random.seed(seed)\n",
        "tf.random.set_seed(seed)"
      ]
    },
    {
      "cell_type": "code",
      "execution_count": 2,
      "metadata": {
        "colab": {
          "base_uri": "https://localhost:8080/",
          "height": 35
        },
        "id": "WaxHdp9jf2Zv",
        "outputId": "339ed817-7030-44dc-c2d6-28955b222918"
      },
      "outputs": [
        {
          "data": {
            "application/vnd.google.colaboratory.intrinsic+json": {
              "type": "string"
            },
            "text/plain": [
              "'2.14.0'"
            ]
          },
          "execution_count": 2,
          "metadata": {},
          "output_type": "execute_result"
        }
      ],
      "source": [
        "tf.__version__"
      ]
    },
    {
      "cell_type": "markdown",
      "metadata": {
        "id": "_ECnd9U3fo2W"
      },
      "source": [
        "- 데이터 전처리"
      ]
    },
    {
      "cell_type": "code",
      "execution_count": 3,
      "metadata": {
        "colab": {
          "base_uri": "https://localhost:8080/"
        },
        "id": "L5tNkryZfmrH",
        "outputId": "1eb5247e-9f87-452d-c4b6-23b66d087c09"
      },
      "outputs": [
        {
          "name": "stdout",
          "output_type": "stream",
          "text": [
            "Downloading data from https://storage.googleapis.com/tensorflow/tf-keras-datasets/mnist.npz\n",
            "11490434/11490434 [==============================] - 0s 0us/step\n"
          ]
        },
        {
          "data": {
            "text/plain": [
              "((60000, 28, 28), (60000,), (10000, 28, 28), (10000,))"
            ]
          },
          "execution_count": 3,
          "metadata": {},
          "output_type": "execute_result"
        }
      ],
      "source": [
        "from tensorflow.keras.datasets import mnist\n",
        "(X_train, y_train), (X_test, y_test) = mnist.load_data()\n",
        "X_train.shape, y_train.shape, X_test.shape, y_test.shape"
      ]
    },
    {
      "cell_type": "code",
      "execution_count": 4,
      "metadata": {
        "id": "guvpfsX6gD-_"
      },
      "outputs": [],
      "source": [
        "# X data의 차원 변경 및 정규화(0 ~ 1)\n",
        "X_train = X_train.reshape(-1, 28, 28, 1) / 255.\n",
        "X_test = X_test.reshape(-1, 28, 28, 1) / 255.\n"
      ]
    },
    {
      "cell_type": "code",
      "execution_count": 5,
      "metadata": {
        "colab": {
          "base_uri": "https://localhost:8080/"
        },
        "id": "0nrI7zzDf_EH",
        "outputId": "47f403ec-0cbc-491d-fcb1-537c89465daf"
      },
      "outputs": [
        {
          "data": {
            "text/plain": [
              "((60000, 10), (10000, 10))"
            ]
          },
          "execution_count": 5,
          "metadata": {},
          "output_type": "execute_result"
        }
      ],
      "source": [
        "# Y_data의 one-hot-encoding\n",
        "from tensorflow.keras.utils import to_categorical\n",
        "Y_train = to_categorical(y_train)\n",
        "Y_test = to_categorical(y_test)\n",
        "Y_train.shape, Y_test.shape"
      ]
    },
    {
      "cell_type": "markdown",
      "metadata": {
        "id": "3nOfVe7Kg6iI"
      },
      "source": [
        "- 모델 정의/설정/학습/평가"
      ]
    },
    {
      "cell_type": "code",
      "execution_count": 6,
      "metadata": {
        "id": "n8Mws5fygz2P"
      },
      "outputs": [],
      "source": [
        "from tensorflow.keras.models import Sequential, load_model\n",
        "from tensorflow.keras.layers import Conv2D, Dense, Flatten\n",
        "from tensorflow.keras.callbacks import ModelCheckpoint, EarlyStopping"
      ]
    },
    {
      "cell_type": "code",
      "execution_count": 7,
      "metadata": {
        "colab": {
          "base_uri": "https://localhost:8080/"
        },
        "id": "lLFfou7lhXoI",
        "outputId": "93f8086a-619d-408f-fa8d-d374f2ab4464"
      },
      "outputs": [
        {
          "name": "stdout",
          "output_type": "stream",
          "text": [
            "Model: \"sequential\"\n",
            "_________________________________________________________________\n",
            " Layer (type)                Output Shape              Param #   \n",
            "=================================================================\n",
            " conv2d (Conv2D)             (None, 26, 26, 32)        320       \n",
            "                                                                 \n",
            " conv2d_1 (Conv2D)           (None, 24, 24, 64)        18496     \n",
            "                                                                 \n",
            " flatten (Flatten)           (None, 36864)             0         \n",
            "                                                                 \n",
            " dense (Dense)               (None, 512)               18874880  \n",
            "                                                                 \n",
            " dense_1 (Dense)             (None, 10)                5130      \n",
            "                                                                 \n",
            "=================================================================\n",
            "Total params: 18898826 (72.09 MB)\n",
            "Trainable params: 18898826 (72.09 MB)\n",
            "Non-trainable params: 0 (0.00 Byte)\n",
            "_________________________________________________________________\n"
          ]
        }
      ],
      "source": [
        "model = Sequential([\n",
        "    Conv2D(32, kernel_size=(3,3), input_shape=(28, 28, 1), activation='relu' ),\n",
        "    Conv2D(64, (3,3), activation='relu'),\n",
        "    Flatten(),\n",
        "    Dense(512, activation='relu'),\n",
        "    Dense(10, activation='softmax')\n",
        "\n",
        "])\n",
        "model.summary()"
      ]
    },
    {
      "cell_type": "code",
      "execution_count": 8,
      "metadata": {
        "id": "krY84moGiPiy"
      },
      "outputs": [],
      "source": [
        "model.compile('adam', 'categorical_crossentropy', metrics=['accuracy'])"
      ]
    },
    {
      "cell_type": "code",
      "execution_count": 9,
      "metadata": {
        "colab": {
          "base_uri": "https://localhost:8080/"
        },
        "id": "kNriuv6OkN5A",
        "outputId": "ac8e4944-7c2f-46a3-bbc8-9bf3eade3a7d"
      },
      "outputs": [
        {
          "name": "stdout",
          "output_type": "stream",
          "text": [
            "total 8\n",
            "drwxr-xr-x 2 root root 4096 Nov  8 01:41 models\n",
            "drwxr-xr-x 1 root root 4096 Nov  6 14:20 sample_data\n"
          ]
        }
      ],
      "source": [
        "!mkdir models\n",
        "!ls -l"
      ]
    },
    {
      "cell_type": "code",
      "execution_count": 10,
      "metadata": {
        "id": "Y4YtLITqj_-g"
      },
      "outputs": [],
      "source": [
        "model_path = 'models/best-mnist-v1.h5'\n",
        "mc = ModelCheckpoint(model_path, save_best_only=True, verbose=1)\n",
        "es = EarlyStopping(patience=10)"
      ]
    },
    {
      "cell_type": "code",
      "execution_count": 11,
      "metadata": {
        "colab": {
          "base_uri": "https://localhost:8080/"
        },
        "id": "c_Ue661rkuhU",
        "outputId": "6c00e174-5d0f-4a3d-cd1f-d7d58a8c8eb6"
      },
      "outputs": [
        {
          "name": "stdout",
          "output_type": "stream",
          "text": [
            "Epoch 1/100\n",
            "188/188 [==============================] - ETA: 0s - loss: 0.1721 - accuracy: 0.9473\n",
            "Epoch 1: val_loss improved from inf to 0.05554, saving model to models/best-mnist-v1.h5\n"
          ]
        },
        {
          "name": "stderr",
          "output_type": "stream",
          "text": [
            "/usr/local/lib/python3.10/dist-packages/keras/src/engine/training.py:3079: UserWarning: You are saving your model as an HDF5 file via `model.save()`. This file format is considered legacy. We recommend using instead the native Keras format, e.g. `model.save('my_model.keras')`.\n",
            "  saving_api.save_model(\n"
          ]
        },
        {
          "name": "stdout",
          "output_type": "stream",
          "text": [
            "\b\b\b\b\b\b\b\b\b\b\b\b\b\b\b\b\b\b\b\b\b\b\b\b\b\b\b\b\b\b\b\b\b\b\b\b\b\b\b\b\b\b\b\b\b\b\b\b\b\b\b\b\b\b\b\b\b\b\b\b\b\b\b\b\b\b\b\b\b\b\b\b\b\b\b\b\b\b\b\b\b\b\b\b\r188/188 [==============================] - 16s 27ms/step - loss: 0.1721 - accuracy: 0.9473 - val_loss: 0.0555 - val_accuracy: 0.9840\n",
            "Epoch 2/100\n",
            "187/188 [============================>.] - ETA: 0s - loss: 0.0399 - accuracy: 0.9877\n",
            "Epoch 2: val_loss improved from 0.05554 to 0.04825, saving model to models/best-mnist-v1.h5\n",
            "188/188 [==============================] - 5s 26ms/step - loss: 0.0398 - accuracy: 0.9878 - val_loss: 0.0482 - val_accuracy: 0.9856\n",
            "Epoch 3/100\n",
            "188/188 [==============================] - ETA: 0s - loss: 0.0190 - accuracy: 0.9941\n",
            "Epoch 3: val_loss did not improve from 0.04825\n",
            "188/188 [==============================] - 4s 22ms/step - loss: 0.0190 - accuracy: 0.9941 - val_loss: 0.0528 - val_accuracy: 0.9861\n",
            "Epoch 4/100\n",
            "187/188 [============================>.] - ETA: 0s - loss: 0.0130 - accuracy: 0.9957\n",
            "Epoch 4: val_loss improved from 0.04825 to 0.04616, saving model to models/best-mnist-v1.h5\n",
            "188/188 [==============================] - 5s 26ms/step - loss: 0.0129 - accuracy: 0.9958 - val_loss: 0.0462 - val_accuracy: 0.9871\n",
            "Epoch 5/100\n",
            "187/188 [============================>.] - ETA: 0s - loss: 0.0062 - accuracy: 0.9980\n",
            "Epoch 5: val_loss did not improve from 0.04616\n",
            "188/188 [==============================] - 4s 22ms/step - loss: 0.0062 - accuracy: 0.9980 - val_loss: 0.0556 - val_accuracy: 0.9869\n",
            "Epoch 6/100\n",
            "187/188 [============================>.] - ETA: 0s - loss: 0.0044 - accuracy: 0.9986\n",
            "Epoch 6: val_loss did not improve from 0.04616\n",
            "188/188 [==============================] - 4s 22ms/step - loss: 0.0044 - accuracy: 0.9986 - val_loss: 0.0603 - val_accuracy: 0.9860\n",
            "Epoch 7/100\n",
            "187/188 [============================>.] - ETA: 0s - loss: 0.0036 - accuracy: 0.9988\n",
            "Epoch 7: val_loss did not improve from 0.04616\n",
            "188/188 [==============================] - 4s 22ms/step - loss: 0.0036 - accuracy: 0.9988 - val_loss: 0.0626 - val_accuracy: 0.9878\n",
            "Epoch 8/100\n",
            "187/188 [============================>.] - ETA: 0s - loss: 0.0056 - accuracy: 0.9981\n",
            "Epoch 8: val_loss did not improve from 0.04616\n",
            "188/188 [==============================] - 4s 22ms/step - loss: 0.0056 - accuracy: 0.9981 - val_loss: 0.0620 - val_accuracy: 0.9879\n",
            "Epoch 9/100\n",
            "187/188 [============================>.] - ETA: 0s - loss: 0.0023 - accuracy: 0.9993\n",
            "Epoch 9: val_loss did not improve from 0.04616\n",
            "188/188 [==============================] - 4s 22ms/step - loss: 0.0023 - accuracy: 0.9993 - val_loss: 0.0697 - val_accuracy: 0.9876\n",
            "Epoch 10/100\n",
            "188/188 [==============================] - ETA: 0s - loss: 0.0082 - accuracy: 0.9972\n",
            "Epoch 10: val_loss did not improve from 0.04616\n",
            "188/188 [==============================] - 4s 23ms/step - loss: 0.0082 - accuracy: 0.9972 - val_loss: 0.0560 - val_accuracy: 0.9868\n",
            "Epoch 11/100\n",
            "187/188 [============================>.] - ETA: 0s - loss: 0.0040 - accuracy: 0.9989\n",
            "Epoch 11: val_loss did not improve from 0.04616\n",
            "188/188 [==============================] - 4s 22ms/step - loss: 0.0041 - accuracy: 0.9989 - val_loss: 0.0556 - val_accuracy: 0.9891\n",
            "Epoch 12/100\n",
            "187/188 [============================>.] - ETA: 0s - loss: 0.0024 - accuracy: 0.9992\n",
            "Epoch 12: val_loss did not improve from 0.04616\n",
            "188/188 [==============================] - 4s 22ms/step - loss: 0.0024 - accuracy: 0.9992 - val_loss: 0.0550 - val_accuracy: 0.9902\n",
            "Epoch 13/100\n",
            "187/188 [============================>.] - ETA: 0s - loss: 4.3705e-04 - accuracy: 0.9999\n",
            "Epoch 13: val_loss did not improve from 0.04616\n",
            "188/188 [==============================] - 4s 22ms/step - loss: 4.3618e-04 - accuracy: 0.9999 - val_loss: 0.0538 - val_accuracy: 0.9903\n",
            "Epoch 14/100\n",
            "188/188 [==============================] - ETA: 0s - loss: 1.1212e-04 - accuracy: 1.0000\n",
            "Epoch 14: val_loss did not improve from 0.04616\n",
            "188/188 [==============================] - 4s 22ms/step - loss: 1.1212e-04 - accuracy: 1.0000 - val_loss: 0.0565 - val_accuracy: 0.9906\n"
          ]
        }
      ],
      "source": [
        "hist = model.fit(\n",
        "    X_train, Y_train, validation_split=0.2, epochs=100, batch_size=256,\n",
        "    callbacks=[mc,es]\n",
        ")"
      ]
    },
    {
      "cell_type": "code",
      "execution_count": 12,
      "metadata": {
        "colab": {
          "base_uri": "https://localhost:8080/"
        },
        "id": "ZGEBrwW0lapT",
        "outputId": "24f1b4c5-c53a-4998-abf4-d4a7165428ef"
      },
      "outputs": [
        {
          "name": "stdout",
          "output_type": "stream",
          "text": [
            "313/313 [==============================] - 1s 4ms/step - loss: 0.0409 - accuracy: 0.9876\n"
          ]
        },
        {
          "data": {
            "text/plain": [
              "[0.04089105501770973, 0.9876000285148621]"
            ]
          },
          "execution_count": 12,
          "metadata": {},
          "output_type": "execute_result"
        }
      ],
      "source": [
        "best_model = load_model(model_path)\n",
        "best_model.evaluate(X_test, Y_test)"
      ]
    },
    {
      "cell_type": "markdown",
      "metadata": {
        "id": "iF1-PqAbmlKS"
      },
      "source": [
        "- 학습과정 시각화"
      ]
    },
    {
      "cell_type": "code",
      "execution_count": 13,
      "metadata": {
        "id": "oBK59Y3smSwf"
      },
      "outputs": [],
      "source": [
        "y_acc = hist.history['accuracy']\n",
        "y_vloss = hist.history['val_loss']\n",
        "xs = np.arange(1,len(y_acc)+1)\n"
      ]
    },
    {
      "cell_type": "code",
      "execution_count": 15,
      "metadata": {
        "colab": {
          "base_uri": "https://localhost:8080/",
          "height": 406
        },
        "id": "TrXeYvBPmtQp",
        "outputId": "b98a3379-42f2-4b62-f023-5389b24c5016"
      },
      "outputs": [
        {
          "data": {
            "image/png": "[encoded data removed]",
            "text/plain": [
              "<Figure size 1200x600 with 1 Axes>"
            ]
          },
          "metadata": {},
          "output_type": "display_data"
        }
      ],
      "source": [
        "plt.figure(figsize=(12,6))\n",
        "plt.plot(xs, y_acc, label='train accuracy')\n",
        "plt.plot(xs, y_vloss, label='validation loss')\n",
        "plt.legend(), plt.grid(), plt.xlabel('epoch')\n",
        "plt.title('MNIST CNN Model v1')\n",
        "plt.show()"
      ]
    }
  ],
  "metadata": {
    "accelerator": "GPU",
    "colab": {
      "gpuType": "T4",
      "provenance": []
    },
    "kernelspec": {
      "display_name": "Python 3",
      "name": "python3"
    },
    "language_info": {
      "name": "python"
    }
  },
  "nbformat": 4,
  "nbformat_minor": 0
}
