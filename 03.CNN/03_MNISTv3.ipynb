{
  "nbformat": 4,
  "nbformat_minor": 0,
  "metadata": {
    "colab": {
      "provenance": [],
      "gpuType": "T4"
    },
    "kernelspec": {
      "name": "python3",
      "display_name": "Python 3"
    },
    "language_info": {
      "name": "python"
    },
    "accelerator": "GPU"
  },
  "cells": [
    {
      "cell_type": "markdown",
      "source": [
        "## MNIST 손글씨 -CNN v3\n",
        "  - 2 x Conv2D layers\n",
        "  - 1 MaxPooling2D layer\n",
        "  - 1 Dropout(0.25) layer\n",
        "  - 1 1 FCN layer\n",
        "  - 1 Dropout(0.5) layer\n",
        "  - 1 Output layer\n"
      ],
      "metadata": {
        "id": "0WzvBWq6fSiH"
      }
    },
    {
      "cell_type": "code",
      "source": [
        "import numpy as np\n",
        "import matplotlib.pyplot as plt\n",
        "import tensorflow as tf\n",
        "seed = 2023\n",
        "np.random.seed(seed)\n",
        "tf.random.set_seed(seed)"
      ],
      "metadata": {
        "id": "4KD8aTgQfPC3"
      },
      "execution_count": 1,
      "outputs": []
    },
    {
      "cell_type": "code",
      "source": [
        "tf.__version__"
      ],
      "metadata": {
        "colab": {
          "base_uri": "https://localhost:8080/",
          "height": 35
        },
        "id": "WaxHdp9jf2Zv",
        "outputId": "a8213b9d-dcc6-4707-cf8a-0f2ade083db8"
      },
      "execution_count": 2,
      "outputs": [
        {
          "output_type": "execute_result",
          "data": {
            "text/plain": [
              "'2.14.0'"
            ],
            "application/vnd.google.colaboratory.intrinsic+json": {
              "type": "string"
            }
          },
          "metadata": {},
          "execution_count": 2
        }
      ]
    },
    {
      "cell_type": "markdown",
      "source": [
        "- 데이터 전처리"
      ],
      "metadata": {
        "id": "_ECnd9U3fo2W"
      }
    },
    {
      "cell_type": "code",
      "source": [
        "from tensorflow.keras.datasets import mnist\n",
        "(X_train, y_train), (X_test, y_test) = mnist.load_data()\n",
        "X_train.shape, y_train.shape, X_test.shape, y_test.shape"
      ],
      "metadata": {
        "colab": {
          "base_uri": "https://localhost:8080/"
        },
        "id": "L5tNkryZfmrH",
        "outputId": "bc495d5c-7e53-40ca-9f7b-597a2427fd39"
      },
      "execution_count": 3,
      "outputs": [
        {
          "output_type": "stream",
          "name": "stdout",
          "text": [
            "Downloading data from https://storage.googleapis.com/tensorflow/tf-keras-datasets/mnist.npz\n",
            "11490434/11490434 [==============================] - 0s 0us/step\n"
          ]
        },
        {
          "output_type": "execute_result",
          "data": {
            "text/plain": [
              "((60000, 28, 28), (60000,), (10000, 28, 28), (10000,))"
            ]
          },
          "metadata": {},
          "execution_count": 3
        }
      ]
    },
    {
      "cell_type": "code",
      "source": [
        "# X data의 차원 변경 및 정규화(0 ~ 1)\n",
        "X_train = X_train.reshape(-1, 28, 28, 1) / 255.\n",
        "X_test = X_test.reshape(-1, 28, 28, 1) / 255.\n"
      ],
      "metadata": {
        "id": "guvpfsX6gD-_"
      },
      "execution_count": 4,
      "outputs": []
    },
    {
      "cell_type": "code",
      "source": [
        "# Y_data의 one-hot-encoding\n",
        "from tensorflow.keras.utils import to_categorical\n",
        "Y_train = to_categorical(y_train)\n",
        "Y_test = to_categorical(y_test)\n",
        "Y_train.shape, Y_test.shape"
      ],
      "metadata": {
        "colab": {
          "base_uri": "https://localhost:8080/"
        },
        "id": "0nrI7zzDf_EH",
        "outputId": "9dffc91e-8d6a-424d-d12f-af31d7350eb9"
      },
      "execution_count": 5,
      "outputs": [
        {
          "output_type": "execute_result",
          "data": {
            "text/plain": [
              "((60000, 10), (10000, 10))"
            ]
          },
          "metadata": {},
          "execution_count": 5
        }
      ]
    },
    {
      "cell_type": "markdown",
      "source": [
        "- 모델 정의/설정/학습/평가"
      ],
      "metadata": {
        "id": "3nOfVe7Kg6iI"
      }
    },
    {
      "cell_type": "code",
      "source": [
        "from tensorflow.keras.models import Sequential, load_model\n",
        "from tensorflow.keras.layers import Conv2D, Dense, Flatten, MaxPooling2D, Dropout\n",
        "from tensorflow.keras.callbacks import ModelCheckpoint, EarlyStopping"
      ],
      "metadata": {
        "id": "n8Mws5fygz2P"
      },
      "execution_count": 6,
      "outputs": []
    },
    {
      "cell_type": "code",
      "source": [
        "model = Sequential([\n",
        "    Conv2D(32, kernel_size=(3,3), input_shape=(28, 28, 1), activation='relu' ),\n",
        "    Conv2D(64, (3,3), activation='relu'),\n",
        "    MaxPooling2D(),                     #  MaxPooling2D(pool_size(2,2))\n",
        "    Dropout(0.25),\n",
        "    Flatten(),\n",
        "    Dense(512, activation='relu'),\n",
        "    Dropout(0.5),\n",
        "    Dense(10, activation='softmax')\n",
        "\n",
        "])\n",
        "model.summary()"
      ],
      "metadata": {
        "colab": {
          "base_uri": "https://localhost:8080/"
        },
        "id": "lLFfou7lhXoI",
        "outputId": "f29e9181-2f99-46f9-a4e2-72440065d6f2"
      },
      "execution_count": 7,
      "outputs": [
        {
          "output_type": "stream",
          "name": "stdout",
          "text": [
            "Model: \"sequential\"\n",
            "_________________________________________________________________\n",
            " Layer (type)                Output Shape              Param #   \n",
            "=================================================================\n",
            " conv2d (Conv2D)             (None, 26, 26, 32)        320       \n",
            "                                                                 \n",
            " conv2d_1 (Conv2D)           (None, 24, 24, 64)        18496     \n",
            "                                                                 \n",
            " max_pooling2d (MaxPooling2  (None, 12, 12, 64)        0         \n",
            " D)                                                              \n",
            "                                                                 \n",
            " dropout (Dropout)           (None, 12, 12, 64)        0         \n",
            "                                                                 \n",
            " flatten (Flatten)           (None, 9216)              0         \n",
            "                                                                 \n",
            " dense (Dense)               (None, 512)               4719104   \n",
            "                                                                 \n",
            " dropout_1 (Dropout)         (None, 512)               0         \n",
            "                                                                 \n",
            " dense_1 (Dense)             (None, 10)                5130      \n",
            "                                                                 \n",
            "=================================================================\n",
            "Total params: 4743050 (18.09 MB)\n",
            "Trainable params: 4743050 (18.09 MB)\n",
            "Non-trainable params: 0 (0.00 Byte)\n",
            "_________________________________________________________________\n"
          ]
        }
      ]
    },
    {
      "cell_type": "code",
      "source": [
        "model.compile('adam', 'categorical_crossentropy', metrics=['accuracy'])"
      ],
      "metadata": {
        "id": "krY84moGiPiy"
      },
      "execution_count": 8,
      "outputs": []
    },
    {
      "cell_type": "code",
      "source": [
        "!mkdir models\n",
        "!ls -l"
      ],
      "metadata": {
        "colab": {
          "base_uri": "https://localhost:8080/"
        },
        "id": "kNriuv6OkN5A",
        "outputId": "49285e3d-50a4-4d71-956c-7d52dbb65871"
      },
      "execution_count": 9,
      "outputs": [
        {
          "output_type": "stream",
          "name": "stdout",
          "text": [
            "total 8\n",
            "drwxr-xr-x 2 root root 4096 Nov  8 02:13 models\n",
            "drwxr-xr-x 1 root root 4096 Nov  6 14:20 sample_data\n"
          ]
        }
      ]
    },
    {
      "cell_type": "code",
      "source": [
        "model_path = 'models/best-mnist-v3.h5'\n",
        "mc = ModelCheckpoint(model_path, save_best_only=True, verbose=1)\n",
        "es = EarlyStopping(patience=5)"
      ],
      "metadata": {
        "id": "Y4YtLITqj_-g"
      },
      "execution_count": 10,
      "outputs": []
    },
    {
      "cell_type": "code",
      "source": [
        "hist = model.fit(\n",
        "    X_train, Y_train, validation_split=0.2, epochs=100, batch_size=256,\n",
        "    callbacks=[mc,es]\n",
        ")"
      ],
      "metadata": {
        "colab": {
          "base_uri": "https://localhost:8080/"
        },
        "id": "c_Ue661rkuhU",
        "outputId": "0f11d152-b5d6-43de-8eed-a75ea1cb3b47"
      },
      "execution_count": 11,
      "outputs": [
        {
          "output_type": "stream",
          "name": "stdout",
          "text": [
            "Epoch 1/100\n",
            "188/188 [==============================] - ETA: 0s - loss: 0.2443 - accuracy: 0.9227\n",
            "Epoch 1: val_loss improved from inf to 0.06061, saving model to models/best-mnist-v3.h5\n",
            "188/188 [==============================] - 15s 20ms/step - loss: 0.2443 - accuracy: 0.9227 - val_loss: 0.0606 - val_accuracy: 0.9821\n",
            "Epoch 2/100\n",
            "  5/188 [..............................] - ETA: 2s - loss: 0.0766 - accuracy: 0.9781"
          ]
        },
        {
          "output_type": "stream",
          "name": "stderr",
          "text": [
            "/usr/local/lib/python3.10/dist-packages/keras/src/engine/training.py:3079: UserWarning: You are saving your model as an HDF5 file via `model.save()`. This file format is considered legacy. We recommend using instead the native Keras format, e.g. `model.save('my_model.keras')`.\n",
            "  saving_api.save_model(\n"
          ]
        },
        {
          "output_type": "stream",
          "name": "stdout",
          "text": [
            "188/188 [==============================] - ETA: 0s - loss: 0.0674 - accuracy: 0.9791\n",
            "Epoch 2: val_loss improved from 0.06061 to 0.04645, saving model to models/best-mnist-v3.h5\n",
            "188/188 [==============================] - 4s 19ms/step - loss: 0.0674 - accuracy: 0.9791 - val_loss: 0.0464 - val_accuracy: 0.9868\n",
            "Epoch 3/100\n",
            "188/188 [==============================] - ETA: 0s - loss: 0.0467 - accuracy: 0.9854\n",
            "Epoch 3: val_loss improved from 0.04645 to 0.04094, saving model to models/best-mnist-v3.h5\n",
            "188/188 [==============================] - 3s 18ms/step - loss: 0.0467 - accuracy: 0.9854 - val_loss: 0.0409 - val_accuracy: 0.9873\n",
            "Epoch 4/100\n",
            "185/188 [============================>.] - ETA: 0s - loss: 0.0350 - accuracy: 0.9894\n",
            "Epoch 4: val_loss improved from 0.04094 to 0.03738, saving model to models/best-mnist-v3.h5\n",
            "188/188 [==============================] - 3s 17ms/step - loss: 0.0348 - accuracy: 0.9895 - val_loss: 0.0374 - val_accuracy: 0.9889\n",
            "Epoch 5/100\n",
            "185/188 [============================>.] - ETA: 0s - loss: 0.0271 - accuracy: 0.9913\n",
            "Epoch 5: val_loss did not improve from 0.03738\n",
            "188/188 [==============================] - 3s 17ms/step - loss: 0.0271 - accuracy: 0.9912 - val_loss: 0.0384 - val_accuracy: 0.9890\n",
            "Epoch 6/100\n",
            "188/188 [==============================] - ETA: 0s - loss: 0.0236 - accuracy: 0.9922\n",
            "Epoch 6: val_loss improved from 0.03738 to 0.03336, saving model to models/best-mnist-v3.h5\n",
            "188/188 [==============================] - 3s 18ms/step - loss: 0.0236 - accuracy: 0.9922 - val_loss: 0.0334 - val_accuracy: 0.9901\n",
            "Epoch 7/100\n",
            "185/188 [============================>.] - ETA: 0s - loss: 0.0203 - accuracy: 0.9935\n",
            "Epoch 7: val_loss did not improve from 0.03336\n",
            "188/188 [==============================] - 3s 18ms/step - loss: 0.0202 - accuracy: 0.9935 - val_loss: 0.0429 - val_accuracy: 0.9880\n",
            "Epoch 8/100\n",
            "185/188 [============================>.] - ETA: 0s - loss: 0.0157 - accuracy: 0.9949\n",
            "Epoch 8: val_loss did not improve from 0.03336\n",
            "188/188 [==============================] - 3s 17ms/step - loss: 0.0158 - accuracy: 0.9949 - val_loss: 0.0420 - val_accuracy: 0.9890\n",
            "Epoch 9/100\n",
            "187/188 [============================>.] - ETA: 0s - loss: 0.0142 - accuracy: 0.9951\n",
            "Epoch 9: val_loss did not improve from 0.03336\n",
            "188/188 [==============================] - 3s 17ms/step - loss: 0.0142 - accuracy: 0.9951 - val_loss: 0.0352 - val_accuracy: 0.9919\n",
            "Epoch 10/100\n",
            "186/188 [============================>.] - ETA: 0s - loss: 0.0128 - accuracy: 0.9957\n",
            "Epoch 10: val_loss did not improve from 0.03336\n",
            "188/188 [==============================] - 3s 17ms/step - loss: 0.0128 - accuracy: 0.9957 - val_loss: 0.0361 - val_accuracy: 0.9901\n",
            "Epoch 11/100\n",
            "187/188 [============================>.] - ETA: 0s - loss: 0.0126 - accuracy: 0.9955\n",
            "Epoch 11: val_loss did not improve from 0.03336\n",
            "188/188 [==============================] - 3s 17ms/step - loss: 0.0126 - accuracy: 0.9955 - val_loss: 0.0368 - val_accuracy: 0.9911\n"
          ]
        }
      ]
    },
    {
      "cell_type": "code",
      "source": [
        "best_model = load_model(model_path)\n",
        "best_model.evaluate(X_test, Y_test)"
      ],
      "metadata": {
        "colab": {
          "base_uri": "https://localhost:8080/"
        },
        "id": "ZGEBrwW0lapT",
        "outputId": "1e344112-3881-4b19-96be-4a519be04172"
      },
      "execution_count": 12,
      "outputs": [
        {
          "output_type": "stream",
          "name": "stdout",
          "text": [
            "313/313 [==============================] - 1s 3ms/step - loss: 0.0300 - accuracy: 0.9902\n"
          ]
        },
        {
          "output_type": "execute_result",
          "data": {
            "text/plain": [
              "[0.030026275664567947, 0.9901999831199646]"
            ]
          },
          "metadata": {},
          "execution_count": 12
        }
      ]
    },
    {
      "cell_type": "markdown",
      "source": [
        "- 학습과정 시각화"
      ],
      "metadata": {
        "id": "iF1-PqAbmlKS"
      }
    },
    {
      "cell_type": "code",
      "source": [
        "y_acc = hist.history['accuracy']\n",
        "y_vloss = hist.history['val_loss']\n",
        "xs = np.arange(1,len(y_acc)+1)\n"
      ],
      "metadata": {
        "id": "oBK59Y3smSwf"
      },
      "execution_count": 13,
      "outputs": []
    },
    {
      "cell_type": "code",
      "source": [
        "plt.figure(figsize=(12,6))\n",
        "plt.plot(xs, y_acc, label='train accuracy')\n",
        "plt.plot(xs, y_vloss, label='validation loss')\n",
        "plt.legend(), plt.grid(), plt.xlabel('epoch')\n",
        "plt.title('MNIST CNN Model v3')\n",
        "plt.show()"
      ],
      "metadata": {
        "colab": {
          "base_uri": "https://localhost:8080/",
          "height": 564
        },
        "id": "TrXeYvBPmtQp",
        "outputId": "98d2782f-43ca-4811-e7b5-d833758c2d27"
      },
      "execution_count": 15,
      "outputs": [
        {
          "output_type": "display_data",
          "data": {
            "text/plain": [
              "<Figure size 1200x600 with 1 Axes>"
            ],
            "image/png": "[encoded data removed]"
          },
          "metadata": {}
        }
      ]
    }
  ]
}