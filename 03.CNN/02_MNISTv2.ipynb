{
  "cells": [
    {
      "cell_type": "markdown",
      "metadata": {
        "id": "0WzvBWq6fSiH"
      },
      "source": [
        "## MNIST 손글씨 -CNN v2\n",
        "  - 2 x Conv2D layers\n",
        "  - 1 MaxPooling2D layer\n",
        "  - 1 1 FCN layer\n",
        "  - 1 Output layer"
      ]
    },
    {
      "cell_type": "code",
      "execution_count": 1,
      "metadata": {
        "id": "4KD8aTgQfPC3"
      },
      "outputs": [],
      "source": [
        "import numpy as np\n",
        "import matplotlib.pyplot as plt\n",
        "import tensorflow as tf\n",
        "seed = 2023\n",
        "np.random.seed(seed)\n",
        "tf.random.set_seed(seed)"
      ]
    },
    {
      "cell_type": "code",
      "execution_count": 2,
      "metadata": {
        "colab": {
          "base_uri": "https://localhost:8080/",
          "height": 35
        },
        "id": "WaxHdp9jf2Zv",
        "outputId": "7fe8cfe3-9fec-47f2-93c6-6dd90b6f1ed9"
      },
      "outputs": [
        {
          "data": {
            "application/vnd.google.colaboratory.intrinsic+json": {
              "type": "string"
            },
            "text/plain": [
              "'2.14.0'"
            ]
          },
          "execution_count": 2,
          "metadata": {},
          "output_type": "execute_result"
        }
      ],
      "source": [
        "tf.__version__"
      ]
    },
    {
      "cell_type": "markdown",
      "metadata": {
        "id": "_ECnd9U3fo2W"
      },
      "source": [
        "- 데이터 전처리"
      ]
    },
    {
      "cell_type": "code",
      "execution_count": 3,
      "metadata": {
        "colab": {
          "base_uri": "https://localhost:8080/"
        },
        "id": "L5tNkryZfmrH",
        "outputId": "a47fac32-54af-4ebc-8d7e-b43c2a21aaa7"
      },
      "outputs": [
        {
          "name": "stdout",
          "output_type": "stream",
          "text": [
            "Downloading data from https://storage.googleapis.com/tensorflow/tf-keras-datasets/mnist.npz\n",
            "11490434/11490434 [==============================] - 0s 0us/step\n"
          ]
        },
        {
          "data": {
            "text/plain": [
              "((60000, 28, 28), (60000,), (10000, 28, 28), (10000,))"
            ]
          },
          "execution_count": 3,
          "metadata": {},
          "output_type": "execute_result"
        }
      ],
      "source": [
        "from tensorflow.keras.datasets import mnist\n",
        "(X_train, y_train), (X_test, y_test) = mnist.load_data()\n",
        "X_train.shape, y_train.shape, X_test.shape, y_test.shape"
      ]
    },
    {
      "cell_type": "code",
      "execution_count": 4,
      "metadata": {
        "id": "guvpfsX6gD-_"
      },
      "outputs": [],
      "source": [
        "# X data의 차원 변경 및 정규화(0 ~ 1)\n",
        "X_train = X_train.reshape(-1, 28, 28, 1) / 255.\n",
        "X_test = X_test.reshape(-1, 28, 28, 1) / 255.\n"
      ]
    },
    {
      "cell_type": "code",
      "execution_count": 5,
      "metadata": {
        "colab": {
          "base_uri": "https://localhost:8080/"
        },
        "id": "0nrI7zzDf_EH",
        "outputId": "d724a3fd-6610-4c91-b1b0-c76bf55484ee"
      },
      "outputs": [
        {
          "data": {
            "text/plain": [
              "((60000, 10), (10000, 10))"
            ]
          },
          "execution_count": 5,
          "metadata": {},
          "output_type": "execute_result"
        }
      ],
      "source": [
        "# Y_data의 one-hot-encoding\n",
        "from tensorflow.keras.utils import to_categorical\n",
        "Y_train = to_categorical(y_train)\n",
        "Y_test = to_categorical(y_test)\n",
        "Y_train.shape, Y_test.shape"
      ]
    },
    {
      "cell_type": "markdown",
      "metadata": {
        "id": "3nOfVe7Kg6iI"
      },
      "source": [
        "- 모델 정의/설정/학습/평가"
      ]
    },
    {
      "cell_type": "code",
      "execution_count": 6,
      "metadata": {
        "id": "n8Mws5fygz2P"
      },
      "outputs": [],
      "source": [
        "from tensorflow.keras.models import Sequential, load_model\n",
        "from tensorflow.keras.layers import Conv2D, Dense, Flatten, MaxPooling2D\n",
        "from tensorflow.keras.callbacks import ModelCheckpoint, EarlyStopping"
      ]
    },
    {
      "cell_type": "code",
      "execution_count": 7,
      "metadata": {
        "colab": {
          "base_uri": "https://localhost:8080/"
        },
        "id": "lLFfou7lhXoI",
        "outputId": "4788d545-4e30-45cb-eeaf-243afae5c387"
      },
      "outputs": [
        {
          "name": "stdout",
          "output_type": "stream",
          "text": [
            "Model: \"sequential\"\n",
            "_________________________________________________________________\n",
            " Layer (type)                Output Shape              Param #   \n",
            "=================================================================\n",
            " conv2d (Conv2D)             (None, 26, 26, 32)        320       \n",
            "                                                                 \n",
            " conv2d_1 (Conv2D)           (None, 24, 24, 64)        18496     \n",
            "                                                                 \n",
            " max_pooling2d (MaxPooling2  (None, 12, 12, 64)        0         \n",
            " D)                                                              \n",
            "                                                                 \n",
            " flatten (Flatten)           (None, 9216)              0         \n",
            "                                                                 \n",
            " dense (Dense)               (None, 512)               4719104   \n",
            "                                                                 \n",
            " dense_1 (Dense)             (None, 10)                5130      \n",
            "                                                                 \n",
            "=================================================================\n",
            "Total params: 4743050 (18.09 MB)\n",
            "Trainable params: 4743050 (18.09 MB)\n",
            "Non-trainable params: 0 (0.00 Byte)\n",
            "_________________________________________________________________\n"
          ]
        }
      ],
      "source": [
        "model = Sequential([\n",
        "    Conv2D(32, kernel_size=(3,3), input_shape=(28, 28, 1), activation='relu' ),\n",
        "    Conv2D(64, (3,3), activation='relu'),\n",
        "    MaxPooling2D(),                     #  MaxPooling2D(pool_size(2,2))\n",
        "    Flatten(),\n",
        "    Dense(512, activation='relu'),\n",
        "    Dense(10, activation='softmax')\n",
        "\n",
        "])\n",
        "model.summary()"
      ]
    },
    {
      "cell_type": "code",
      "execution_count": 8,
      "metadata": {
        "id": "krY84moGiPiy"
      },
      "outputs": [],
      "source": [
        "model.compile('adam', 'categorical_crossentropy', metrics=['accuracy'])"
      ]
    },
    {
      "cell_type": "code",
      "execution_count": 9,
      "metadata": {
        "colab": {
          "base_uri": "https://localhost:8080/"
        },
        "id": "kNriuv6OkN5A",
        "outputId": "91039516-9dc0-4319-ad1b-6715997e712c"
      },
      "outputs": [
        {
          "name": "stdout",
          "output_type": "stream",
          "text": [
            "total 8\n",
            "drwxr-xr-x 2 root root 4096 Nov  8 02:05 models\n",
            "drwxr-xr-x 1 root root 4096 Nov  6 14:20 sample_data\n"
          ]
        }
      ],
      "source": [
        "!mkdir models\n",
        "!ls -l"
      ]
    },
    {
      "cell_type": "code",
      "execution_count": 10,
      "metadata": {
        "id": "Y4YtLITqj_-g"
      },
      "outputs": [],
      "source": [
        "model_path = 'models/best-mnist-v2.h5'\n",
        "mc = ModelCheckpoint(model_path, save_best_only=True, verbose=1)\n",
        "es = EarlyStopping(patience=5)"
      ]
    },
    {
      "cell_type": "code",
      "execution_count": 11,
      "metadata": {
        "colab": {
          "base_uri": "https://localhost:8080/"
        },
        "id": "c_Ue661rkuhU",
        "outputId": "70f63002-2fdd-4a38-b91c-82784d0f01b0"
      },
      "outputs": [
        {
          "name": "stdout",
          "output_type": "stream",
          "text": [
            "Epoch 1/100\n",
            "188/188 [==============================] - ETA: 0s - loss: 0.1915 - accuracy: 0.9424\n",
            "Epoch 1: val_loss improved from inf to 0.05716, saving model to models/best-mnist-v2.h5\n",
            "188/188 [==============================] - 13s 17ms/step - loss: 0.1915 - accuracy: 0.9424 - val_loss: 0.0572 - val_accuracy: 0.9835\n",
            "Epoch 2/100\n",
            "  6/188 [..............................] - ETA: 2s - loss: 0.0482 - accuracy: 0.9824"
          ]
        },
        {
          "name": "stderr",
          "output_type": "stream",
          "text": [
            "/usr/local/lib/python3.10/dist-packages/keras/src/engine/training.py:3079: UserWarning: You are saving your model as an HDF5 file via `model.save()`. This file format is considered legacy. We recommend using instead the native Keras format, e.g. `model.save('my_model.keras')`.\n",
            "  saving_api.save_model(\n"
          ]
        },
        {
          "name": "stdout",
          "output_type": "stream",
          "text": [
            "186/188 [============================>.] - ETA: 0s - loss: 0.0470 - accuracy: 0.9854\n",
            "Epoch 2: val_loss improved from 0.05716 to 0.04292, saving model to models/best-mnist-v2.h5\n",
            "188/188 [==============================] - 3s 15ms/step - loss: 0.0469 - accuracy: 0.9854 - val_loss: 0.0429 - val_accuracy: 0.9869\n",
            "Epoch 3/100\n",
            "184/188 [============================>.] - ETA: 0s - loss: 0.0268 - accuracy: 0.9916\n",
            "Epoch 3: val_loss did not improve from 0.04292\n",
            "188/188 [==============================] - 3s 14ms/step - loss: 0.0271 - accuracy: 0.9915 - val_loss: 0.0430 - val_accuracy: 0.9877\n",
            "Epoch 4/100\n",
            "186/188 [============================>.] - ETA: 0s - loss: 0.0181 - accuracy: 0.9942\n",
            "Epoch 4: val_loss improved from 0.04292 to 0.03904, saving model to models/best-mnist-v2.h5\n",
            "188/188 [==============================] - 3s 16ms/step - loss: 0.0180 - accuracy: 0.9942 - val_loss: 0.0390 - val_accuracy: 0.9884\n",
            "Epoch 5/100\n",
            "186/188 [============================>.] - ETA: 0s - loss: 0.0103 - accuracy: 0.9967\n",
            "Epoch 5: val_loss did not improve from 0.03904\n",
            "188/188 [==============================] - 3s 15ms/step - loss: 0.0104 - accuracy: 0.9967 - val_loss: 0.0446 - val_accuracy: 0.9880\n",
            "Epoch 6/100\n",
            "184/188 [============================>.] - ETA: 0s - loss: 0.0076 - accuracy: 0.9975\n",
            "Epoch 6: val_loss did not improve from 0.03904\n",
            "188/188 [==============================] - 3s 15ms/step - loss: 0.0077 - accuracy: 0.9974 - val_loss: 0.0470 - val_accuracy: 0.9874\n",
            "Epoch 7/100\n",
            "187/188 [============================>.] - ETA: 0s - loss: 0.0057 - accuracy: 0.9982\n",
            "Epoch 7: val_loss did not improve from 0.03904\n",
            "188/188 [==============================] - 3s 14ms/step - loss: 0.0057 - accuracy: 0.9982 - val_loss: 0.0532 - val_accuracy: 0.9877\n",
            "Epoch 8/100\n",
            "187/188 [============================>.] - ETA: 0s - loss: 0.0049 - accuracy: 0.9983\n",
            "Epoch 8: val_loss did not improve from 0.03904\n",
            "188/188 [==============================] - 3s 14ms/step - loss: 0.0050 - accuracy: 0.9983 - val_loss: 0.0507 - val_accuracy: 0.9873\n",
            "Epoch 9/100\n",
            "187/188 [============================>.] - ETA: 0s - loss: 0.0044 - accuracy: 0.9986\n",
            "Epoch 9: val_loss did not improve from 0.03904\n",
            "188/188 [==============================] - 4s 19ms/step - loss: 0.0045 - accuracy: 0.9986 - val_loss: 0.0544 - val_accuracy: 0.9883\n"
          ]
        }
      ],
      "source": [
        "hist = model.fit(\n",
        "    X_train, Y_train, validation_split=0.2, epochs=100, batch_size=256,\n",
        "    callbacks=[mc,es]\n",
        ")"
      ]
    },
    {
      "cell_type": "code",
      "execution_count": 12,
      "metadata": {
        "colab": {
          "base_uri": "https://localhost:8080/"
        },
        "id": "ZGEBrwW0lapT",
        "outputId": "3f7d35bb-4e4f-4710-cd7e-d4734c4d6305"
      },
      "outputs": [
        {
          "name": "stdout",
          "output_type": "stream",
          "text": [
            "313/313 [==============================] - 1s 3ms/step - loss: 0.0341 - accuracy: 0.9893\n"
          ]
        },
        {
          "data": {
            "text/plain": [
              "[0.03412098437547684, 0.989300012588501]"
            ]
          },
          "execution_count": 12,
          "metadata": {},
          "output_type": "execute_result"
        }
      ],
      "source": [
        "best_model = load_model(model_path)\n",
        "best_model.evaluate(X_test, Y_test)"
      ]
    },
    {
      "cell_type": "markdown",
      "metadata": {
        "id": "iF1-PqAbmlKS"
      },
      "source": [
        "- 학습과정 시각화"
      ]
    },
    {
      "cell_type": "code",
      "execution_count": 13,
      "metadata": {
        "id": "oBK59Y3smSwf"
      },
      "outputs": [],
      "source": [
        "y_acc = hist.history['accuracy']\n",
        "y_vloss = hist.history['val_loss']\n",
        "xs = np.arange(1,len(y_acc)+1)\n"
      ]
    },
    {
      "cell_type": "code",
      "execution_count": 1,
      "metadata": {
        "colab": {
          "base_uri": "https://localhost:8080/",
          "height": 564
        },
        "id": "TrXeYvBPmtQp",
        "outputId": "2945f376-9f31-4280-cc5a-225897768aba"
      },
      "outputs": [
        {
          "ename": "NameError",
          "evalue": "name 'plt' is not defined",
          "output_type": "error",
          "traceback": [
            "\u001b[1;31m---------------------------------------------------------------------------\u001b[0m",
            "\u001b[1;31mNameError\u001b[0m                                 Traceback (most recent call last)",
            "\u001b[1;32md:\\WorkSpace\\04.DeepLearning\\03.CNN\\02_MNISTv2.ipynb 셀 18\u001b[0m line \u001b[0;36m1\n\u001b[1;32m----> <a href='vscode-notebook-cell:/d%3A/WorkSpace/04.DeepLearning/03.CNN/02_MNISTv2.ipynb#X23sZmlsZQ%3D%3D?line=0'>1</a>\u001b[0m plt\u001b[39m.\u001b[39mfigure(figsize\u001b[39m=\u001b[39m(\u001b[39m12\u001b[39m,\u001b[39m6\u001b[39m))\n\u001b[0;32m      <a href='vscode-notebook-cell:/d%3A/WorkSpace/04.DeepLearning/03.CNN/02_MNISTv2.ipynb#X23sZmlsZQ%3D%3D?line=1'>2</a>\u001b[0m plt\u001b[39m.\u001b[39mplot(xs, y_acc, label\u001b[39m=\u001b[39m\u001b[39m'\u001b[39m\u001b[39mtrain accuracy\u001b[39m\u001b[39m'\u001b[39m)\n\u001b[0;32m      <a href='vscode-notebook-cell:/d%3A/WorkSpace/04.DeepLearning/03.CNN/02_MNISTv2.ipynb#X23sZmlsZQ%3D%3D?line=2'>3</a>\u001b[0m plt\u001b[39m.\u001b[39mplot(xs, y_vloss, label\u001b[39m=\u001b[39m\u001b[39m'\u001b[39m\u001b[39mvalidation loss\u001b[39m\u001b[39m'\u001b[39m)\n",
            "\u001b[1;31mNameError\u001b[0m: name 'plt' is not defined"
          ]
        }
      ],
      "source": [
        "plt.figure(figsize=(12,6))\n",
        "plt.plot(xs, y_acc, label='train accuracy')\n",
        "plt.plot(xs, y_vloss, label='validation loss')\n",
        "plt.legend(), plt.grid(), plt.xlabel('epoch')\n",
        "plt.title('MNIST CNN Model v2')\n",
        "plt.show()"
      ]
    }
  ],
  "metadata": {
    "accelerator": "GPU",
    "colab": {
      "gpuType": "T4",
      "provenance": []
    },
    "kernelspec": {
      "display_name": "Python 3",
      "name": "python3"
    },
    "language_info": {
      "codemirror_mode": {
        "name": "ipython",
        "version": 3
      },
      "file_extension": ".py",
      "mimetype": "text/x-python",
      "name": "python",
      "nbconvert_exporter": "python",
      "pygments_lexer": "ipython3",
      "version": "3.11.4"
    }
  },
  "nbformat": 4,
  "nbformat_minor": 0
}
